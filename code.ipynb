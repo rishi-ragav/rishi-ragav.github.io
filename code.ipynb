{
 "cells": [
  {
   "cell_type": "code",
   "execution_count": 2,
   "id": "de3fce78-c50a-4ffd-a6a4-d7782c5afd5c",
   "metadata": {
    "tags": []
   },
   "outputs": [],
   "source": [
    "# Importing standard Qiskit libraries\n",
    "from qiskit import QuantumCircuit, transpile\n",
    "from qiskit.tools.jupyter import *\n",
    "from qiskit.visualization import *\n",
    "from ibm_quantum_widgets import *\n",
    "from qiskit_aer import AerSimulator\n",
    "\n",
    "# qiskit-ibmq-provider has been deprecated.\n",
    "# Please see the Migration Guides in https://ibm.biz/provider_migration_guide for more detail.\n",
    "from qiskit_ibm_runtime import QiskitRuntimeService, Sampler, Estimator, Session, Options\n",
    "\n",
    "# Loading your IBM Quantum account(s)\n",
    "service = QiskitRuntimeService(channel=\"ibm_quantum\")\n",
    "\n",
    "# Invoke a primitive inside a session. For more details see https://qiskit.org/documentation/partners/qiskit_ibm_runtime/tutorials.html\n",
    "# with Session(backend=service.backend(\"ibmq_qasm_simulator\")):\n",
    "#     result = Sampler().run(circuits).result()"
   ]
  },
  {
   "cell_type": "code",
   "execution_count": 4,
   "id": "b748e8a9-6153-46d4-9cff-cb8e5b0728cf",
   "metadata": {
    "tags": []
   },
   "outputs": [
    {
     "name": "stdout",
     "output_type": "stream",
     "text": [
      "Traceback \u001b[1;36m(most recent call last)\u001b[0m:\n",
      "\u001b[0m  Cell \u001b[0;32mIn[4], line 37\u001b[0m\n",
      "    print(result.counts())\u001b[0m\n",
      "\u001b[1;36m  File \u001b[1;32m/opt/conda/lib/python3.10/site-packages/qiskit/result/result.py:117\u001b[1;36m in \u001b[1;35m__getattr__\u001b[1;36m\n",
      "\u001b[1;33m    raise AttributeError(f\"Attribute {name} is not defined\") from ex\u001b[1;36m\n",
      "\u001b[1;31mAttributeError\u001b[0m\u001b[1;31m:\u001b[0m Attribute counts is not defined\n",
      "\n",
      "Use %tb to get the full traceback.\n"
     ]
    },
    {
     "data": {
      "text/html": [
       "\n",
       "<style>\n",
       ".button {\n",
       "  border: none;\n",
       "  color: white;\n",
       "  padding: 4px 8px;\n",
       "  text-align: center;\n",
       "  text-decoration: none;\n",
       "  display: inline-block;\n",
       "  font-size: 12px;\n",
       "  margin: 4px 2px;\n",
       "  transition-duration: 0.2s;\n",
       "  cursor: pointer;\n",
       "}\n",
       ".iqx-button {\n",
       "  background-color: #0f62fe; \n",
       "  color: white; \n",
       "}\n",
       ".iqx-button:hover {\n",
       "  background-color: #0043ce;\n",
       "  color: white;\n",
       "}\n",
       "</style>\n",
       "<a href=\"https://stackoverflow.com/search?q=AttributeError: Attribute counts is not defined\" target='_blank'><button class='button iqx-button'>Search for solution online</button></a>\n"
      ],
      "text/plain": [
       "<IPython.core.display.HTML object>"
      ]
     },
     "metadata": {},
     "output_type": "display_data"
    }
   ],
   "source": [
    "from qiskit import QuantumCircuit, Aer, execute\n",
    "\n",
    "# Define the search space\n",
    "n = 10\n",
    "\n",
    "# Create the quantum circuit\n",
    "qc = QuantumCircuit(n)\n",
    "\n",
    "# Initialize the qubits in a uniform superposition\n",
    "for i in range(n):\n",
    "  qc.h(i)\n",
    "\n",
    "# Define the oracle\n",
    "oracle = QuantumCircuit(n)\n",
    "\n",
    "# Implement the oracle function\n",
    "for i in range(n):\n",
    "  oracle.cx(i, (i + 1) % n)\n",
    "\n",
    "# Apply the oracle\n",
    "qc = qc.compose(oracle, range(n))\n",
    "\n",
    "# Apply the Grover operator\n",
    "qc.h(range(n))\n",
    "qc.x(range(n))\n",
    "qc.z(range(n))\n",
    "qc.h(range(n))\n",
    "\n",
    "# Measure the qubits\n",
    "qc.measure_all()\n",
    "\n",
    "# Run the circuit on a simulator\n",
    "backend = Aer.get_backend('qasm_simulator')\n",
    "result = execute(qc, backend, shots=1000).result()\n",
    "\n",
    "# Print the results\n",
    "print(result.counts())"
   ]
  },
  {
   "cell_type": "code",
   "execution_count": 5,
   "id": "9e6ba72c-3cb0-42ff-886c-f6ce834f09fa",
   "metadata": {
    "tags": []
   },
   "outputs": [
    {
     "name": "stdout",
     "output_type": "stream",
     "text": [
      "Traceback \u001b[1;36m(most recent call last)\u001b[0m:\n",
      "\u001b[0m  Cell \u001b[0;32mIn[5], line 46\u001b[0m\n",
      "    circuit = grover_algorithm(num_qubits, target)\u001b[0m\n",
      "\u001b[0m  Cell \u001b[0;32mIn[5], line 32\u001b[0m in \u001b[0;35mgrover_algorithm\u001b[0m\n",
      "    circuit = create_oracle(circuit, target)\u001b[0m\n",
      "\u001b[0m  Cell \u001b[0;32mIn[5], line 6\u001b[0m in \u001b[0;35mcreate_oracle\u001b[0m\n",
      "    circuit.cz(range(num_qubits), target)\u001b[0m\n",
      "\u001b[0m  File \u001b[0;32m/opt/conda/lib/python3.10/site-packages/qiskit/circuit/quantumcircuit.py:4129\u001b[0m in \u001b[0;35mcz\u001b[0m\n",
      "    return self.append(\u001b[0m\n",
      "\u001b[0m  File \u001b[0;32m/opt/conda/lib/python3.10/site-packages/qiskit/circuit/quantumcircuit.py:1287\u001b[0m in \u001b[0;35mappend\u001b[0m\n",
      "    expanded_qargs = [self.qbit_argument_conversion(qarg) for qarg in qargs or []]\u001b[0m\n",
      "\u001b[0m  File \u001b[0;32m/opt/conda/lib/python3.10/site-packages/qiskit/circuit/quantumcircuit.py:1287\u001b[0m in \u001b[0;35m<listcomp>\u001b[0m\n",
      "    expanded_qargs = [self.qbit_argument_conversion(qarg) for qarg in qargs or []]\u001b[0m\n",
      "\u001b[0m  File \u001b[0;32m/opt/conda/lib/python3.10/site-packages/qiskit/circuit/quantumcircuit.py:1168\u001b[0m in \u001b[0;35mqbit_argument_conversion\u001b[0m\n",
      "    return _bit_argument_conversion(\u001b[0m\n",
      "\u001b[0m  File \u001b[0;32m/opt/conda/lib/python3.10/site-packages/qiskit/circuit/quantumcircuit.py:5117\u001b[0m in \u001b[0;35m_bit_argument_conversion\u001b[0m\n",
      "    return [\u001b[0m\n",
      "\u001b[0m  File \u001b[0;32m/opt/conda/lib/python3.10/site-packages/qiskit/circuit/quantumcircuit.py:5118\u001b[0m in \u001b[0;35m<listcomp>\u001b[0m\n",
      "    _bit_argument_conversion_scalar(index, bit_sequence, bit_set, type_)\u001b[0m\n",
      "\u001b[1;36m  File \u001b[1;32m/opt/conda/lib/python3.10/site-packages/qiskit/circuit/quantumcircuit.py:5147\u001b[1;36m in \u001b[1;35m_bit_argument_conversion_scalar\u001b[1;36m\n",
      "\u001b[1;33m    raise CircuitError(message)\u001b[1;36m\n",
      "\u001b[1;31mCircuitError\u001b[0m\u001b[1;31m:\u001b[0m \"Invalid bit index: '1' of type '<class 'str'>'\"\n",
      "\n",
      "Use %tb to get the full traceback.\n"
     ]
    },
    {
     "data": {
      "text/html": [
       "\n",
       "<style>\n",
       ".button {\n",
       "  border: none;\n",
       "  color: white;\n",
       "  padding: 4px 8px;\n",
       "  text-align: center;\n",
       "  text-decoration: none;\n",
       "  display: inline-block;\n",
       "  font-size: 12px;\n",
       "  margin: 4px 2px;\n",
       "  transition-duration: 0.2s;\n",
       "  cursor: pointer;\n",
       "}\n",
       ".iqx-button {\n",
       "  background-color: #0f62fe; \n",
       "  color: white; \n",
       "}\n",
       ".iqx-button:hover {\n",
       "  background-color: #0043ce;\n",
       "  color: white;\n",
       "}\n",
       "</style>\n",
       "<a href=\"https://stackoverflow.com/search?q=CircuitError: Invalid bit index: '1' of type '<class 'str'>'\" target='_blank'><button class='button iqx-button'>Search for solution online</button></a>\n"
      ],
      "text/plain": [
       "<IPython.core.display.HTML object>"
      ]
     },
     "metadata": {},
     "output_type": "display_data"
    }
   ],
   "source": [
    "from qiskit import QuantumCircuit, transpile, assemble, Aer, execute\n",
    "from qiskit.visualization import plot_histogram\n",
    "\n",
    "# Define the function that creates the oracle for a specific problem\n",
    "def create_oracle(circuit, target):\n",
    "    circuit.cz(range(num_qubits), target)\n",
    "    return circuit\n",
    "\n",
    "# Define the function that creates the inversion about the mean operation\n",
    "def create_inversion(circuit):\n",
    "    circuit.h(range(num_qubits))\n",
    "    circuit.x(range(num_qubits))\n",
    "    circuit.h(num_qubits - 1)\n",
    "    circuit.mct(list(range(num_qubits - 1)), num_qubits - 1)\n",
    "    circuit.h(num_qubits - 1)\n",
    "    circuit.x(range(num_qubits))\n",
    "    circuit.h(range(num_qubits))\n",
    "    return circuit\n",
    "\n",
    "# Define the function for Grover's algorithm\n",
    "def grover_algorithm(num_qubits, target):\n",
    "    circuit = QuantumCircuit(num_qubits, num_qubits)\n",
    "    \n",
    "    # Apply Hadamard gates to all qubits\n",
    "    circuit.h(range(num_qubits))\n",
    "    \n",
    "    # Set the number of iterations (k) based on the number of qubits and the target\n",
    "    k = int(round((3.14/4) * (2 ** (num_qubits/2))))\n",
    "    \n",
    "    # Apply Grover's iterations\n",
    "    for _ in range(k):\n",
    "        circuit = create_oracle(circuit, target)\n",
    "        circuit = create_inversion(circuit)\n",
    "    \n",
    "    # Measure all qubits\n",
    "    circuit.measure(range(num_qubits), range(num_qubits))\n",
    "    \n",
    "    return circuit\n",
    "\n",
    "# Define the number of qubits and the target value (as a binary string)\n",
    "num_qubits = 4\n",
    "target = '1010'\n",
    "\n",
    "# Run the circuit on a simulator\n",
    "simulator = Aer.get_backend('qasm_simulator')\n",
    "circuit = grover_algorithm(num_qubits, target)\n",
    "job = execute(circuit, simulator, shots=1024)\n",
    "result = job.result()\n",
    "counts = result.get_counts(circuit)\n",
    "\n",
    "# Plot the histogram of the results\n",
    "plot_histogram(counts)\n"
   ]
  },
  {
   "cell_type": "code",
   "execution_count": 6,
   "id": "e1b39fc2-a964-43ae-bf93-7b3d8df71c77",
   "metadata": {
    "tags": []
   },
   "outputs": [
    {
     "name": "stdout",
     "output_type": "stream",
     "text": [
      "Traceback \u001b[1;36m(most recent call last)\u001b[0m:\n",
      "\u001b[0m  Cell \u001b[0;32mIn[6], line 46\u001b[0m\n",
      "    circuit = grover_algorithm(num_qubits, target)\u001b[0m\n",
      "\u001b[0m  Cell \u001b[0;32mIn[6], line 32\u001b[0m in \u001b[0;35mgrover_algorithm\u001b[0m\n",
      "    circuit = create_oracle(circuit, target)\u001b[0m\n",
      "\u001b[0m  Cell \u001b[0;32mIn[6], line 6\u001b[0m in \u001b[0;35mcreate_oracle\u001b[0m\n",
      "    circuit.cz(range(num_qubits), target)\u001b[0m\n",
      "\u001b[0m  File \u001b[0;32m/opt/conda/lib/python3.10/site-packages/qiskit/circuit/quantumcircuit.py:4129\u001b[0m in \u001b[0;35mcz\u001b[0m\n",
      "    return self.append(\u001b[0m\n",
      "\u001b[0m  File \u001b[0;32m/opt/conda/lib/python3.10/site-packages/qiskit/circuit/quantumcircuit.py:1287\u001b[0m in \u001b[0;35mappend\u001b[0m\n",
      "    expanded_qargs = [self.qbit_argument_conversion(qarg) for qarg in qargs or []]\u001b[0m\n",
      "\u001b[0m  File \u001b[0;32m/opt/conda/lib/python3.10/site-packages/qiskit/circuit/quantumcircuit.py:1287\u001b[0m in \u001b[0;35m<listcomp>\u001b[0m\n",
      "    expanded_qargs = [self.qbit_argument_conversion(qarg) for qarg in qargs or []]\u001b[0m\n",
      "\u001b[0m  File \u001b[0;32m/opt/conda/lib/python3.10/site-packages/qiskit/circuit/quantumcircuit.py:1168\u001b[0m in \u001b[0;35mqbit_argument_conversion\u001b[0m\n",
      "    return _bit_argument_conversion(\u001b[0m\n",
      "\u001b[1;36m  File \u001b[1;32m/opt/conda/lib/python3.10/site-packages/qiskit/circuit/quantumcircuit.py:5110\u001b[1;36m in \u001b[1;35m_bit_argument_conversion\u001b[1;36m\n",
      "\u001b[1;33m    raise CircuitError(\u001b[1;36m\n",
      "\u001b[1;31mCircuitError\u001b[0m\u001b[1;31m:\u001b[0m 'Index 10 out of range for size 4.'\n",
      "\n",
      "Use %tb to get the full traceback.\n"
     ]
    },
    {
     "data": {
      "text/html": [
       "\n",
       "<style>\n",
       ".button {\n",
       "  border: none;\n",
       "  color: white;\n",
       "  padding: 4px 8px;\n",
       "  text-align: center;\n",
       "  text-decoration: none;\n",
       "  display: inline-block;\n",
       "  font-size: 12px;\n",
       "  margin: 4px 2px;\n",
       "  transition-duration: 0.2s;\n",
       "  cursor: pointer;\n",
       "}\n",
       ".iqx-button {\n",
       "  background-color: #0f62fe; \n",
       "  color: white; \n",
       "}\n",
       ".iqx-button:hover {\n",
       "  background-color: #0043ce;\n",
       "  color: white;\n",
       "}\n",
       "</style>\n",
       "<a href=\"https://stackoverflow.com/search?q=CircuitError: Index 10 out of range for size 4.\" target='_blank'><button class='button iqx-button'>Search for solution online</button></a>\n"
      ],
      "text/plain": [
       "<IPython.core.display.HTML object>"
      ]
     },
     "metadata": {},
     "output_type": "display_data"
    }
   ],
   "source": [
    "from qiskit import QuantumCircuit, transpile, assemble, Aer, execute\n",
    "from qiskit.visualization import plot_histogram\n",
    "\n",
    "# Define the function that creates the oracle for a specific problem\n",
    "def create_oracle(circuit, target):\n",
    "    circuit.cz(range(num_qubits), target)\n",
    "    return circuit\n",
    "\n",
    "# Define the function that creates the inversion about the mean operation\n",
    "def create_inversion(circuit):\n",
    "    circuit.h(range(num_qubits))\n",
    "    circuit.x(range(num_qubits))\n",
    "    circuit.h(num_qubits - 1)\n",
    "    circuit.mct(list(range(num_qubits - 1)), num_qubits - 1)\n",
    "    circuit.h(num_qubits - 1)\n",
    "    circuit.x(range(num_qubits))\n",
    "    circuit.h(range(num_qubits))\n",
    "    return circuit\n",
    "\n",
    "# Define the function for Grover's algorithm\n",
    "def grover_algorithm(num_qubits, target):\n",
    "    circuit = QuantumCircuit(num_qubits, num_qubits)\n",
    "    \n",
    "    # Apply Hadamard gates to all qubits\n",
    "    circuit.h(range(num_qubits))\n",
    "    \n",
    "    # Set the number of iterations (k) based on the number of qubits and the target\n",
    "    k = int(round((3.14/4) * (2 ** (num_qubits/2))))\n",
    "    \n",
    "    # Apply Grover's iterations\n",
    "    for _ in range(k):\n",
    "        circuit = create_oracle(circuit, target)\n",
    "        circuit = create_inversion(circuit)\n",
    "    \n",
    "    # Measure all qubits\n",
    "    circuit.measure(range(num_qubits), range(num_qubits))\n",
    "    \n",
    "    return circuit\n",
    "\n",
    "# Define the number of qubits and the target value (as a binary string)\n",
    "num_qubits = 4\n",
    "target = int('1010', 2)  # Convert binary string to integer\n",
    "\n",
    "# Run the circuit on a simulator\n",
    "simulator = Aer.get_backend('qasm_simulator')\n",
    "circuit = grover_algorithm(num_qubits, target)\n",
    "job = execute(circuit, simulator, shots=1024)\n",
    "result = job.result()\n",
    "counts = result.get_counts(circuit)\n",
    "\n",
    "# Plot the histogram of the results\n",
    "plot_histogram(counts)\n"
   ]
  },
  {
   "cell_type": "code",
   "execution_count": 7,
   "id": "ac3e5bee-5af6-4f87-801b-f416f75590c4",
   "metadata": {
    "tags": []
   },
   "outputs": [
    {
     "data": {
      "image/png": "[encoded data removed]",
      "text/plain": [
       "<Figure size 700x500 with 1 Axes>"
      ]
     },
     "execution_count": 7,
     "metadata": {},
     "output_type": "execute_result"
    }
   ],
   "source": [
    "from qiskit import QuantumCircuit, transpile, assemble, Aer, execute\n",
    "from qiskit.visualization import plot_histogram\n",
    "\n",
    "# Define the function that creates the oracle for a specific problem\n",
    "def create_oracle(circuit, target):\n",
    "    for i in range(len(target)):\n",
    "        if target[i] == '1':\n",
    "            circuit.cx(i, num_qubits)\n",
    "    return circuit\n",
    "\n",
    "# Define the function that creates the inversion about the mean operation\n",
    "def create_inversion(circuit):\n",
    "    circuit.h(range(num_qubits))\n",
    "    circuit.x(range(num_qubits))\n",
    "    circuit.h(num_qubits - 1)\n",
    "    circuit.mct(list(range(num_qubits - 1)), num_qubits - 1)\n",
    "    circuit.h(num_qubits - 1)\n",
    "    circuit.x(range(num_qubits))\n",
    "    circuit.h(range(num_qubits))\n",
    "    return circuit\n",
    "\n",
    "# Define the function for Grover's algorithm\n",
    "def grover_algorithm(num_qubits, target):\n",
    "    circuit = QuantumCircuit(num_qubits + 1, num_qubits)\n",
    "    \n",
    "    # Apply Hadamard gates to all qubits\n",
    "    circuit.h(range(num_qubits + 1))\n",
    "    \n",
    "    # Set the number of iterations (k) based on the number of qubits and the target\n",
    "    k = int(round((3.14/4) * (2 ** (num_qubits/2))))\n",
    "    \n",
    "    # Apply Grover's iterations\n",
    "    for _ in range(k):\n",
    "        circuit = create_oracle(circuit, target)\n",
    "        circuit = create_inversion(circuit)\n",
    "    \n",
    "    # Measure the first 'num_qubits' qubits\n",
    "    circuit.measure(range(num_qubits), range(num_qubits))\n",
    "    \n",
    "    return circuit\n",
    "\n",
    "# Define the number of qubits and the target value (as a binary string)\n",
    "num_qubits = 4\n",
    "target = '1010'\n",
    "\n",
    "# Run the circuit on a simulator\n",
    "simulator = Aer.get_backend('qasm_simulator')\n",
    "circuit = grover_algorithm(num_qubits, target)\n",
    "job = execute(circuit, simulator, shots=1024)\n",
    "result = job.result()\n",
    "counts = result.get_counts(circuit)\n",
    "\n",
    "# Plot the histogram of the results\n",
    "plot_histogram(counts)\n"
   ]
  },
  {
   "cell_type": "code",
   "execution_count": null,
   "id": "36014c8c-079b-4362-8030-cb48f498b060",
   "metadata": {},
   "outputs": [],
   "source": []
  }
 ],
 "metadata": {
  "kernelspec": {
   "display_name": "Python 3 (ipykernel)",
   "language": "python",
   "name": "python3"
  },
  "language_info": {
   "codemirror_mode": {
    "name": "ipython",
    "version": 3
   },
   "file_extension": ".py",
   "mimetype": "text/x-python",
   "name": "python",
   "nbconvert_exporter": "python",
   "pygments_lexer": "ipython3",
   "version": "3.10.8"
  },
  "widgets": {
   "application/vnd.jupyter.widget-state+json": {
    "state": {
     "03a1802e659e4fa78545386c8f657870": {
      "model_module": "@jupyter-widgets/controls",
      "model_module_version": "2.0.0",
      "model_name": "HTMLStyleModel",
      "state": {
       "description_width": "",
       "font_size": null,
       "text_color": null
      }
     },
     "056b61e6489e485b9620857b9f4b315d": {
      "model_module": "@jupyter-widgets/base",
      "model_module_version": "2.0.0",
      "model_name": "LayoutModel",
      "state": {
       "margin": "0px 0px 10px 0px"
      }
     },
     "0e82a85ad5e94475a70c387c5ad54a55": {
      "model_module": "@jupyter-widgets/base",
      "model_module_version": "2.0.0",
      "model_name": "LayoutModel",
      "state": {
       "width": "145px"
      }
     },
     "129352d8482c4fb2ac4ab346c529d2ae": {
      "model_module": "@jupyter-widgets/controls",
      "model_module_version": "2.0.0",
      "model_name": "HTMLModel",
      "state": {
       "layout": "IPY_MODEL_b03a0dc7acfb446988257c53e0c04981",
       "style": "IPY_MODEL_9e7cbf133b7d477885a6d1cb2d35a474",
       "value": "<h5>Queue</h5>"
      }
     },
     "12a3f4855d5f4e83a333be7bf0002311": {
      "model_module": "@jupyter-widgets/base",
      "model_module_version": "2.0.0",
      "model_name": "LayoutModel",
      "state": {
       "width": "190px"
      }
     },
     "13841d392d5e4ccbade106243410ef34": {
      "model_module": "@jupyter-widgets/controls",
      "model_module_version": "2.0.0",
      "model_name": "HTMLStyleModel",
      "state": {
       "description_width": "",
       "font_size": null,
       "text_color": null
      }
     },
     "190f5aa5be9747a2ae6f35e712301efe": {
      "model_module": "@jupyter-widgets/controls",
      "model_module_version": "2.0.0",
      "model_name": "HBoxModel",
      "state": {
       "children": [
        "IPY_MODEL_3afdf6e2350a4671975fc2336e2311dd",
        "IPY_MODEL_df51376d70d34fe1a2a2568f391ddf41",
        "IPY_MODEL_668b8cc0ad5e46149fc94547570c4a6a",
        "IPY_MODEL_129352d8482c4fb2ac4ab346c529d2ae",
        "IPY_MODEL_277207715b494003b6b4a3dd4ba50146"
       ],
       "layout": "IPY_MODEL_ab8e57d4eb77415d8e725cfdac28669a"
      }
     },
     "277207715b494003b6b4a3dd4ba50146": {
      "model_module": "@jupyter-widgets/controls",
      "model_module_version": "2.0.0",
      "model_name": "HTMLModel",
      "state": {
       "layout": "IPY_MODEL_4f2a894c197142d0bbb8686a4d13c5c6",
       "style": "IPY_MODEL_8d6ebdeda7cc47e8b69f15a658825030",
       "value": "<h5>Message</h5>"
      }
     },
     "3afdf6e2350a4671975fc2336e2311dd": {
      "model_module": "@jupyter-widgets/controls",
      "model_module_version": "2.0.0",
      "model_name": "HTMLModel",
      "state": {
       "layout": "IPY_MODEL_12a3f4855d5f4e83a333be7bf0002311",
       "style": "IPY_MODEL_03a1802e659e4fa78545386c8f657870",
       "value": "<h5>Job ID</h5>"
      }
     },
     "421e71e20cd54313a71edfbf1bea1d30": {
      "model_module": "@jupyter-widgets/controls",
      "model_module_version": "2.0.0",
      "model_name": "ButtonModel",
      "state": {
       "button_style": "primary",
       "description": "Clear",
       "layout": "IPY_MODEL_c5dbb1d39111480bb0ec476d8d2070e0",
       "style": "IPY_MODEL_99b637dd2c074aaaace1b894f53019db",
       "tooltip": null
      }
     },
     "4f2a894c197142d0bbb8686a4d13c5c6": {
      "model_module": "@jupyter-widgets/base",
      "model_module_version": "2.0.0",
      "model_name": "LayoutModel",
      "state": {}
     },
     "64a4dca99fe24c059ca0d8d440715034": {
      "model_module": "@jupyter-widgets/controls",
      "model_module_version": "2.0.0",
      "model_name": "HTMLStyleModel",
      "state": {
       "description_width": "",
       "font_size": null,
       "text_color": null
      }
     },
     "668b8cc0ad5e46149fc94547570c4a6a": {
      "model_module": "@jupyter-widgets/controls",
      "model_module_version": "2.0.0",
      "model_name": "HTMLModel",
      "state": {
       "layout": "IPY_MODEL_9ef9806b3c7f4f57b32396ef5eb7aa32",
       "style": "IPY_MODEL_c0aa0981a62540e0b2dd32fcc7e685b3",
       "value": "<h5>Status</h5>"
      }
     },
     "8d6ebdeda7cc47e8b69f15a658825030": {
      "model_module": "@jupyter-widgets/controls",
      "model_module_version": "2.0.0",
      "model_name": "HTMLStyleModel",
      "state": {
       "description_width": "",
       "font_size": null,
       "text_color": null
      }
     },
     "99b637dd2c074aaaace1b894f53019db": {
      "model_module": "@jupyter-widgets/controls",
      "model_module_version": "2.0.0",
      "model_name": "ButtonStyleModel",
      "state": {
       "font_family": null,
       "font_size": null,
       "font_style": null,
       "font_variant": null,
       "font_weight": null,
       "text_color": null,
       "text_decoration": null
      }
     },
     "9e7cbf133b7d477885a6d1cb2d35a474": {
      "model_module": "@jupyter-widgets/controls",
      "model_module_version": "2.0.0",
      "model_name": "HTMLStyleModel",
      "state": {
       "description_width": "",
       "font_size": null,
       "text_color": null
      }
     },
     "9ef9806b3c7f4f57b32396ef5eb7aa32": {
      "model_module": "@jupyter-widgets/base",
      "model_module_version": "2.0.0",
      "model_name": "LayoutModel",
      "state": {
       "width": "95px"
      }
     },
     "ab8e57d4eb77415d8e725cfdac28669a": {
      "model_module": "@jupyter-widgets/base",
      "model_module_version": "2.0.0",
      "model_name": "LayoutModel",
      "state": {
       "margin": "0px 0px 0px 37px",
       "width": "600px"
      }
     },
     "b03a0dc7acfb446988257c53e0c04981": {
      "model_module": "@jupyter-widgets/base",
      "model_module_version": "2.0.0",
      "model_name": "LayoutModel",
      "state": {
       "width": "70px"
      }
     },
     "b4e09f1fcaba47ecb10edcd0103efcbe": {
      "model_module": "@jupyter-widgets/base",
      "model_module_version": "2.0.0",
      "model_name": "LayoutModel",
      "state": {
       "grid_template_areas": "\n                                       \". . . . right \"\n                                        ",
       "grid_template_columns": "20% 20% 20% 20% 20%",
       "width": "100%"
      }
     },
     "c0aa0981a62540e0b2dd32fcc7e685b3": {
      "model_module": "@jupyter-widgets/controls",
      "model_module_version": "2.0.0",
      "model_name": "HTMLStyleModel",
      "state": {
       "description_width": "",
       "font_size": null,
       "text_color": null
      }
     },
     "c5dbb1d39111480bb0ec476d8d2070e0": {
      "model_module": "@jupyter-widgets/base",
      "model_module_version": "2.0.0",
      "model_name": "LayoutModel",
      "state": {
       "grid_area": "right",
       "padding": "0px 0px 0px 0px",
       "width": "70px"
      }
     },
     "df51376d70d34fe1a2a2568f391ddf41": {
      "model_module": "@jupyter-widgets/controls",
      "model_module_version": "2.0.0",
      "model_name": "HTMLModel",
      "state": {
       "layout": "IPY_MODEL_0e82a85ad5e94475a70c387c5ad54a55",
       "style": "IPY_MODEL_13841d392d5e4ccbade106243410ef34",
       "value": "<h5>Backend</h5>"
      }
     },
     "ee867190cf04490589e498fb75456eee": {
      "model_module": "@jupyter-widgets/controls",
      "model_module_version": "2.0.0",
      "model_name": "HTMLModel",
      "state": {
       "layout": "IPY_MODEL_056b61e6489e485b9620857b9f4b315d",
       "style": "IPY_MODEL_64a4dca99fe24c059ca0d8d440715034",
       "value": "<p style='font-family: IBM Plex Sans, Arial, Helvetica, sans-serif; font-size: 20px; font-weight: medium;'>Circuit Properties</p>"
      }
     },
     "f0db151c08d749548b0408b8203feb50": {
      "model_module": "@jupyter-widgets/controls",
      "model_module_version": "2.0.0",
      "model_name": "GridBoxModel",
      "state": {
       "children": [
        "IPY_MODEL_421e71e20cd54313a71edfbf1bea1d30"
       ],
       "layout": "IPY_MODEL_b4e09f1fcaba47ecb10edcd0103efcbe"
      }
     }
    },
    "version_major": 2,
    "version_minor": 0
   }
  }
 },
 "nbformat": 4,
 "nbformat_minor": 5
}
